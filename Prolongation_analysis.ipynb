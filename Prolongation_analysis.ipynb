{
  "nbformat": 4,
  "nbformat_minor": 0,
  "metadata": {
    "colab": {
      "provenance": []
    },
    "kernelspec": {
      "name": "python3",
      "display_name": "Python 3"
    },
    "language_info": {
      "name": "python"
    }
  },
  "cells": [
    {
      "cell_type": "code",
      "execution_count": 21,
      "metadata": {
        "id": "FpdeL4KJgyOm"
      },
      "outputs": [],
      "source": [
        "# Подключаем необходимые библиотеки\n",
        "import pandas as pd\n",
        "import re\n",
        "from datetime import datetime\n",
        "from dateutil.relativedelta import relativedelta"
      ]
    },
    {
      "cell_type": "code",
      "source": [
        "df_financial = pd.read_csv('financial_data.csv')\n",
        "df_prolong = pd.read_csv('prolongations.csv')"
      ],
      "metadata": {
        "id": "hxrY-kzXH1xU"
      },
      "execution_count": 3,
      "outputs": []
    },
    {
      "cell_type": "code",
      "source": [
        "def parse_number(x):\n",
        "    if isinstance(x, str):\n",
        "        x = x.replace(' ', '').replace(',', '.')\n",
        "        try:\n",
        "            return float(x)\n",
        "        except:\n",
        "            return 0\n",
        "    elif pd.isna(x):\n",
        "        return 0\n",
        "    return x"
      ],
      "metadata": {
        "id": "YD3ZTMZ8H2-B"
      },
      "execution_count": 4,
      "outputs": []
    },
    {
      "cell_type": "code",
      "source": [
        "# Очистка числовых столбцов\n",
        "month_cols = [col for col in df_financial.columns if re.match(r'[А-Яа-я]+\\s\\d{4}', col)]\n",
        "for col in month_cols:\n",
        "    df_financial[col] = df_financial[col].apply(parse_number)\n",
        "\n",
        "merged = df_prolong.merge(df_financial, on='id', how='left')"
      ],
      "metadata": {
        "id": "OLlex-qGIRw9"
      },
      "execution_count": 6,
      "outputs": []
    },
    {
      "cell_type": "code",
      "source": [
        "months = [\n",
        "    'Январь', 'Февраль', 'Март', 'Апрель', 'Май', 'Июнь',\n",
        "    'Июль', 'Август', 'Сентябрь', 'Октябрь', 'Ноябрь', 'Декабрь'\n",
        "]\n",
        "month_name_to_number = {name.lower(): i + 1 for i, name in enumerate(months)}\n",
        "month_number_to_russian = {i + 1: name for i, name in enumerate(months)}"
      ],
      "metadata": {
        "id": "SrN_HOa6IVTk"
      },
      "execution_count": 15,
      "outputs": []
    },
    {
      "cell_type": "code",
      "source": [
        "def calculate_coefficients(df, current_month):\n",
        "    coefficients = []\n",
        "\n",
        "    try:\n",
        "        # Преобразуем строку и парсим\n",
        "        month_str, year_str = current_month.strip().split()\n",
        "        month_str = month_str.lower()  # приводим к нижнему регистру\n",
        "        current_dt = datetime(int(year_str), month_name_to_number[month_str], 1)\n",
        "    except Exception as e:\n",
        "        print(f\"Ошибка парсинга месяца {current_month}: {e}\")\n",
        "        return pd.DataFrame()\n",
        "\n",
        "\n",
        "    # Месяцы для расчётов\n",
        "    k1_base_dt = current_dt - relativedelta(months=1)  # для K1 – апрель\n",
        "    k1_target_dt = current_dt                         # для K1 – май\n",
        "\n",
        "    k2_base_dt = current_dt - relativedelta(months=2)  # для K2 – март\n",
        "    k2_exclude_dt = current_dt - relativedelta(months=1)  # исключить апрель\n",
        "    k2_target_dt = current_dt  # для K2 – май\n",
        "\n",
        "    # Названия столбцов\n",
        "    k1_base_col = f\"{month_number_to_russian[k1_base_dt.month]} {k1_base_dt.year}\"\n",
        "    k1_target_col = f\"{month_number_to_russian[k1_target_dt.month]} {k1_target_dt.year}\"\n",
        "    k2_base_col = f\"{month_number_to_russian[k2_base_dt.month]} {k2_base_dt.year}\"\n",
        "    k2_exclude_col = f\"{month_number_to_russian[k2_exclude_dt.month]} {k2_exclude_dt.year}\"\n",
        "    k2_target_col = f\"{month_number_to_russian[k2_target_dt.month]} {k2_target_dt.year}\"\n",
        "\n",
        "    for manager, group in df.groupby('AM'):\n",
        "        # --- K1: отгрузка за апрель и за май (для завершившихся в апреле)\n",
        "        if k1_base_col in group.columns and k1_target_col in group.columns:\n",
        "            base_k1 = group[k1_base_col].sum()\n",
        "            prolong_k1 = group[group[k1_target_col] > 0][k1_target_col].sum()\n",
        "            k1 = round(prolong_k1 / base_k1, 2) if base_k1 else None\n",
        "        else:\n",
        "            k1 = None\n",
        "\n",
        "        # --- K2: отгрузка за март, нет в апреле, но есть в мае\n",
        "        if k2_base_col in group.columns and k2_target_col in group.columns and k2_exclude_col in group.columns:\n",
        "            filtered = group[(group[k2_exclude_col] == 0) & (group[k2_target_col] > 0)]\n",
        "            base_k2 = group[(group[k2_exclude_col] == 0)][k2_base_col].sum()\n",
        "            prolong_k2 = filtered[k2_target_col].sum()\n",
        "            k2 = round(prolong_k2 / base_k2, 2) if base_k2 else None\n",
        "        else:\n",
        "            k2 = None\n",
        "\n",
        "        coefficients.append({\n",
        "            'Месяц': current_month,\n",
        "            'Менеджер': manager,\n",
        "            'K1': k1,\n",
        "            'K2': k2\n",
        "        })\n",
        "\n",
        "    return pd.DataFrame(coefficients)"
      ],
      "metadata": {
        "id": "B0z8PquNIels"
      },
      "execution_count": 18,
      "outputs": []
    },
    {
      "cell_type": "code",
      "source": [
        "# Список месяцев\n",
        "months_to_analyze = sorted(set(df_prolong['month']))\n",
        "\n",
        "# Расчёт коэффициентов\n",
        "results = []\n",
        "for month in months_to_analyze:\n",
        "    coeffs_df = calculate_coefficients(merged, month)\n",
        "    if not coeffs_df.empty:\n",
        "        results.extend(coeffs_df.to_dict(orient='records'))"
      ],
      "metadata": {
        "id": "5W93GzuTIocg"
      },
      "execution_count": 19,
      "outputs": []
    },
    {
      "cell_type": "code",
      "source": [
        "final_df = pd.DataFrame(results)\n",
        "\n",
        "# Группировки\n",
        "final_df['Год'] = final_df['Месяц'].str.extract(r'(\\d{4})')\n",
        "yearly_report = final_df.groupby(['Год', 'Менеджер'])[['K1', 'K2']].mean().reset_index()\n",
        "overall_report = final_df.groupby('Менеджер')[['K1', 'K2']].mean().reset_index()\n",
        "\n",
        "# Сохранение\n",
        "final_df.to_csv('prolongation_report_fixed.csv', index=False)\n",
        "yearly_report.to_csv('yearly_report.csv', index=False)\n",
        "overall_report.to_csv('overall_report.csv', index=False)\n",
        "\n",
        "print(\"Все отчёты успешно сформированы и сохранены в CSV!\")\n",
        "print(\"Пример данных:\")\n",
        "print(final_df.head())"
      ],
      "metadata": {
        "colab": {
          "base_uri": "https://localhost:8080/"
        },
        "id": "E3YG18sTItLu",
        "outputId": "d909762c-9041-42ba-9d7b-7fcd8dfeab78"
      },
      "execution_count": 20,
      "outputs": [
        {
          "output_type": "stream",
          "name": "stdout",
          "text": [
            "Все отчёты успешно сформированы и сохранены в CSV!\n",
            "Пример данных:\n",
            "         Месяц                      Менеджер  K1  K2   Год\n",
            "0  август 2023  Васильев Артем Александрович NaN NaN  2023\n",
            "1  август 2023       Иванова Мария Сергеевна NaN NaN  2023\n",
            "2  август 2023      Кузнецов Михаил Иванович NaN NaN  2023\n",
            "3  август 2023     Михайлов Андрей Сергеевич NaN NaN  2023\n",
            "4  август 2023       Петрова Анна Дмитриевна NaN NaN  2023\n"
          ]
        }
      ]
    }
  ]
}