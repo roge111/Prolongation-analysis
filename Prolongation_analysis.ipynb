{
  "nbformat": 4,
  "nbformat_minor": 0,
  "metadata": {
    "colab": {
      "provenance": []
    },
    "kernelspec": {
      "name": "python3",
      "display_name": "Python 3"
    },
    "language_info": {
      "name": "python"
    }
  },
  "cells": [
    {
      "cell_type": "code",
      "execution_count": 14,
      "metadata": {
        "id": "FpdeL4KJgyOm"
      },
      "outputs": [],
      "source": [
        "# Подключаем необходимые библиотеки\n",
        "import pandas as pd\n",
        "from datetime import datetime\n",
        "import re\n",
        "from dateutil.relativedelta import relativedelta"
      ]
    },
    {
      "cell_type": "code",
      "source": [
        "df_financial = pd.read_csv('financial_data.csv')\n",
        "df_prolong = pd.read_csv('prolongations.csv')"
      ],
      "metadata": {
        "id": "hxrY-kzXH1xU"
      },
      "execution_count": 15,
      "outputs": []
    },
    {
      "cell_type": "code",
      "source": [
        "def parse_number(x):\n",
        "    if isinstance(x, str):\n",
        "        x = x.strip().lower()\n",
        "        if x in ['стоп', 'stop', 'end']:\n",
        "            return 'стоп'\n",
        "        if x in ['в ноль']:\n",
        "            return 'в ноль'\n",
        "        x = x.replace(' ', '').replace(',', '.')\n",
        "        try:\n",
        "            return float(x)\n",
        "        except:\n",
        "            return 0\n",
        "    elif pd.isna(x):\n",
        "        return 0\n",
        "    return x\n"
      ],
      "metadata": {
        "id": "YD3ZTMZ8H2-B"
      },
      "execution_count": 16,
      "outputs": []
    },
    {
      "cell_type": "code",
      "source": [
        "# # Очистка числовых столбцов\n",
        "month_cols = [col for col in df_financial.columns if re.match(r'[А-Яа-я]+\\s\\d{4}', col)]\n",
        "for col in month_cols:\n",
        "    df_financial[col] = df_financial[col].apply(parse_number)\n",
        "\n",
        "merged = df_prolong.merge(df_financial, on='id', how='left')"
      ],
      "metadata": {
        "id": "OLlex-qGIRw9"
      },
      "execution_count": 17,
      "outputs": []
    },
    {
      "cell_type": "code",
      "source": [
        "months = [\n",
        "    'Январь', 'Февраль', 'Март', 'Апрель', 'Май', 'Июнь',\n",
        "    'Июль', 'Август', 'Сентябрь', 'Октябрь', 'Ноябрь', 'Декабрь'\n",
        "]\n",
        "month_name_to_number = {name.lower(): i + 1 for i, name in enumerate(months)}\n",
        "month_number_to_name = {i + 1: name for i, name in enumerate(months)}"
      ],
      "metadata": {
        "id": "SrN_HOa6IVTk"
      },
      "execution_count": 18,
      "outputs": []
    },
    {
      "cell_type": "code",
      "source": [
        "# Функция для получения значения с учётом \"в ноль\"\n",
        "def get_adjusted_value(row, target_month, later_months, previous_month):\n",
        "    value = row.get(target_month)\n",
        "    if value == 'стоп':\n",
        "        return None  # не учитываем проекты со статусом \"стоп\"\n",
        "    if value == 'в ноль':\n",
        "        only_zeros = all(\n",
        "            row.get(m, 0) in [0, 'в ноль'] for m in later_months\n",
        "        )\n",
        "        if only_zeros:\n",
        "            return row.get(previous_month, 0)\n",
        "        else:\n",
        "            return 0\n",
        "    return value if value != 'в ноль' else 0\n"
      ],
      "metadata": {
        "id": "XrVObsUlXBbN"
      },
      "execution_count": 19,
      "outputs": []
    },
    {
      "cell_type": "code",
      "source": [
        "\n",
        "def calculate_coefficients(df, current_month):\n",
        "    coefficients = []\n",
        "\n",
        "    try:\n",
        "        month_str, year_str = current_month.strip().split()\n",
        "        current_dt = datetime(int(year_str), month_name_to_number[month_str.lower()], 1)\n",
        "    except Exception as e:\n",
        "        print(f\"Ошибка парсинга месяца {current_month}: {e}\")\n",
        "        return pd.DataFrame()\n",
        "\n",
        "    # Определение нужных месяцев\n",
        "    prev_dt = current_dt - relativedelta(months=1)  # апрель, если текущий — май\n",
        "    prev2_dt = current_dt - relativedelta(months=2)  # март, если текущий — май\n",
        "\n",
        "    prev_month = f\"{month_number_to_name[prev_dt.month]} {prev_dt.year}\"\n",
        "    prev2_month = f\"{month_number_to_name[prev2_dt.month]} {prev2_dt.year}\"\n",
        "    current_month_str = f\"{month_number_to_name[current_dt.month]} {current_dt.year}\"\n",
        "\n",
        "    later_months_from_prev = [\n",
        "        f\"{month_number_to_name[(prev_dt.month + i - 1) % 12 + 1]} {prev_dt.year + ((prev_dt.month + i - 1) // 12)}\"\n",
        "        for i in range(1, 13)\n",
        "    ]\n",
        "    later_months_from_prev2 = [\n",
        "        f\"{month_number_to_name[(prev2_dt.month + i - 1) % 12 + 1]} {prev2_dt.year + ((prev2_dt.month + i - 1) // 12)}\"\n",
        "        for i in range(1, 13)\n",
        "    ]\n",
        "\n",
        "    for account, group in df.groupby('Account'):\n",
        "        k1_num = 0\n",
        "        k1_den = 0\n",
        "        k2_num = 0\n",
        "        k2_den = 0\n",
        "\n",
        "        for _, row in group.iterrows():\n",
        "            # Пролонгация в 1-й месяц после окончания\n",
        "            end_val = get_adjusted_value(row, prev_month, later_months_from_prev, '')\n",
        "            next_val = get_adjusted_value(row, current_month_str, [], prev_month)\n",
        "            if end_val is not None and isinstance(end_val, (int, float)) and end_val > 0:\n",
        "                k1_num += next_val if isinstance(next_val, (int, float)) else 0\n",
        "                k1_den += end_val\n",
        "\n",
        "            # Пролонгация во 2-й месяц после окончания\n",
        "            end2_val = get_adjusted_value(row, prev2_month, later_months_from_prev2, '')\n",
        "            skip_val = get_adjusted_value(row, prev_month, later_months_from_prev, prev2_month)\n",
        "            second_val = get_adjusted_value(row, current_month_str, [], prev_month)\n",
        "\n",
        "            if end2_val is not None and isinstance(end2_val, (int, float)) and end2_val > 0 and (not skip_val or skip_val == 0):\n",
        "                k2_num += second_val if isinstance(second_val, (int, float)) else 0\n",
        "                k2_den += end2_val\n",
        "\n",
        "        k1 = round(k1_num / k1_den, 2) if k1_den else None\n",
        "        k2 = round(k2_num / k2_den, 2) if k2_den else None\n",
        "\n",
        "        coefficients.append({\n",
        "            'Account': account,\n",
        "            'K1': k1,\n",
        "            'K2': k2\n",
        "        })\n",
        "\n",
        "    return pd.DataFrame(coefficients)"
      ],
      "metadata": {
        "id": "B0z8PquNIels"
      },
      "execution_count": 20,
      "outputs": []
    },
    {
      "cell_type": "code",
      "source": [
        "# Список месяцев\n",
        "months_to_analyze = sorted(set(df_prolong['month']))\n",
        "\n",
        "# Расчёт коэффициентов\n",
        "results = []\n",
        "for month in months_to_analyze:\n",
        "    for manager in merged['AM'].dropna().unique():\n",
        "        manager_data = merged[merged['AM'] == manager]\n",
        "        coeffs = calculate_coefficients(manager_data, month)\n",
        "\n",
        "        if not coeffs.empty:\n",
        "            avg_k1 = coeffs['K1'].mean(skipna=True)\n",
        "            avg_k2 = coeffs['K2'].mean(skipna=True)\n",
        "\n",
        "            results.append({\n",
        "                'Месяц': month,\n",
        "                'Менеджер': manager,\n",
        "                'K1': avg_k1,\n",
        "                'K2': avg_k2\n",
        "            })\n"
      ],
      "metadata": {
        "id": "5W93GzuTIocg"
      },
      "execution_count": 26,
      "outputs": []
    },
    {
      "cell_type": "code",
      "source": [
        "final_df = pd.DataFrame(results)\n",
        "\n",
        "# Группировки\n",
        "final_df['Год'] = final_df['Месяц'].str.extract(r'(\\d{4})')\n",
        "yearly_report = final_df.groupby(['Год', 'Менеджер'])[['K1', 'K2']].mean().reset_index()\n",
        "overall_report = final_df.groupby('Менеджер')[['K1', 'K2']].mean().reset_index()\n",
        "\n",
        "overall_summary = pd.DataFrame({\n",
        "    'Менеджер': ['Весь отдел'],\n",
        "    'K1': [final_df['K1'].mean(skipna=True)],\n",
        "    'K2': [final_df['K2'].mean(skipna=True)]\n",
        "})\n",
        "\n",
        "\n",
        "# Сохранение\n",
        "final_df.to_csv('prolongation_report_fixed.csv', index=False)\n",
        "yearly_report.to_csv('yearly_report.csv', index=False)\n",
        "overall_report.to_csv('overall_report.csv', index=False)\n",
        "overall_summary.to_csv('department_summary.csv', index=False)\n",
        "\n",
        "print(\"Все отчёты успешно сформированы и сохранены в CSV!\")\n",
        "print(\"Пример данных:\")\n",
        "print(final_df.head())"
      ],
      "metadata": {
        "colab": {
          "base_uri": "https://localhost:8080/"
        },
        "id": "E3YG18sTItLu",
        "outputId": "31c00134-c7aa-458c-dfcc-d22919a367b6"
      },
      "execution_count": 27,
      "outputs": [
        {
          "output_type": "stream",
          "name": "stdout",
          "text": [
            "Все отчёты успешно сформированы и сохранены в CSV!\n",
            "Пример данных:\n",
            "         Месяц                       Менеджер    K1   K2   Год\n",
            "0  август 2023   Васильев Артем Александрович   NaN  NaN  2023\n",
            "1  август 2023      Михайлов Андрей Сергеевич   NaN  NaN  2023\n",
            "2  август 2023  Соколова Анастасия Викторовна  0.67  NaN  2023\n",
            "3  август 2023        Иванова Мария Сергеевна   NaN  NaN  2023\n",
            "4  август 2023    Попова Екатерина Николаевна   NaN  0.0  2023\n"
          ]
        }
      ]
    }
  ]
}